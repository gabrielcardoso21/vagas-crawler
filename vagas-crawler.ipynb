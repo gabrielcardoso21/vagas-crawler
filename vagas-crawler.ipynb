{
  "cells": [
    {
      "cell_type": "code",
      "source": [
        "# Instala o Google Chrome\n",
        "!apt-get update -qq > /dev/null\n",
        "!wget -q -O - https://dl-ssl.google.com/linux/linux_signing_key.pub | apt-key add -\n",
        "!echo \"deb [arch=amd64] http://dl.google.com/linux/chrome/deb/ stable main\" | tee /etc/apt/sources.list.d/google-chrome.list\n",
        "!apt-get update -qq > /dev/null\n",
        "!apt-get install -qq google-chrome-stable\n",
        "\n",
        "# Instala o Selenium e o webdriver-manager\n",
        "!pip install -U selenium webdriver-manager"
      ],
      "metadata": {
        "colab": {
          "base_uri": "https://localhost:8080/"
        },
        "id": "GVD6wNYq80LG",
        "outputId": "aea25546-9a25-4465-e559-b180515db2fa"
      },
      "id": "GVD6wNYq80LG",
      "execution_count": 4,
      "outputs": [
        {
          "output_type": "stream",
          "name": "stdout",
          "text": [
            "W: Skipping acquire of configured file 'main/source/Sources' as repository 'https://r2u.stat.illinois.edu/ubuntu jammy InRelease' does not seem to provide it (sources.list entry misspelt?)\n",
            "Warning: apt-key is deprecated. Manage keyring files in trusted.gpg.d instead (see apt-key(8)).\n",
            "OK\n",
            "deb [arch=amd64] http://dl.google.com/linux/chrome/deb/ stable main\n",
            "W: http://dl.google.com/linux/chrome/deb/dists/stable/InRelease: Key is stored in legacy trusted.gpg keyring (/etc/apt/trusted.gpg), see the DEPRECATION section in apt-key(8) for details.\n",
            "W: Skipping acquire of configured file 'main/source/Sources' as repository 'https://r2u.stat.illinois.edu/ubuntu jammy InRelease' does not seem to provide it (sources.list entry misspelt?)\n",
            "Selecting previously unselected package libvulkan1:amd64.\n",
            "(Reading database ... 123623 files and directories currently installed.)\n",
            "Preparing to unpack .../libvulkan1_1.3.204.1-2_amd64.deb ...\n",
            "Unpacking libvulkan1:amd64 (1.3.204.1-2) ...\n",
            "Selecting previously unselected package google-chrome-stable.\n",
            "Preparing to unpack .../google-chrome-stable_130.0.6723.116-1_amd64.deb ...\n",
            "Unpacking google-chrome-stable (130.0.6723.116-1) ...\n",
            "Selecting previously unselected package mesa-vulkan-drivers:amd64.\n",
            "Preparing to unpack .../mesa-vulkan-drivers_23.2.1-1ubuntu3.1~22.04.2_amd64.deb ...\n",
            "Unpacking mesa-vulkan-drivers:amd64 (23.2.1-1ubuntu3.1~22.04.2) ...\n",
            "Setting up libvulkan1:amd64 (1.3.204.1-2) ...\n",
            "Setting up mesa-vulkan-drivers:amd64 (23.2.1-1ubuntu3.1~22.04.2) ...\n",
            "Setting up google-chrome-stable (130.0.6723.116-1) ...\n",
            "update-alternatives: using /usr/bin/google-chrome-stable to provide /usr/bin/x-www-browser (x-www-browser) in auto mode\n",
            "update-alternatives: using /usr/bin/google-chrome-stable to provide /usr/bin/gnome-www-browser (gnome-www-browser) in auto mode\n",
            "update-alternatives: using /usr/bin/google-chrome-stable to provide /usr/bin/google-chrome (google-chrome) in auto mode\n",
            "Processing triggers for man-db (2.10.2-1) ...\n",
            "Processing triggers for libc-bin (2.35-0ubuntu3.4) ...\n",
            "/sbin/ldconfig.real: /usr/local/lib/libhwloc.so.15 is not a symbolic link\n",
            "\n",
            "/sbin/ldconfig.real: /usr/local/lib/libtbbbind_2_0.so.3 is not a symbolic link\n",
            "\n",
            "/sbin/ldconfig.real: /usr/local/lib/libtbbmalloc.so.2 is not a symbolic link\n",
            "\n",
            "/sbin/ldconfig.real: /usr/local/lib/libtcm_debug.so.1 is not a symbolic link\n",
            "\n",
            "/sbin/ldconfig.real: /usr/local/lib/libtbb.so.12 is not a symbolic link\n",
            "\n",
            "/sbin/ldconfig.real: /usr/local/lib/libumf.so.0 is not a symbolic link\n",
            "\n",
            "/sbin/ldconfig.real: /usr/local/lib/libur_loader.so.0 is not a symbolic link\n",
            "\n",
            "/sbin/ldconfig.real: /usr/local/lib/libtbbbind_2_5.so.3 is not a symbolic link\n",
            "\n",
            "/sbin/ldconfig.real: /usr/local/lib/libtbbmalloc_proxy.so.2 is not a symbolic link\n",
            "\n",
            "/sbin/ldconfig.real: /usr/local/lib/libur_adapter_opencl.so.0 is not a symbolic link\n",
            "\n",
            "/sbin/ldconfig.real: /usr/local/lib/libur_adapter_level_zero.so.0 is not a symbolic link\n",
            "\n",
            "/sbin/ldconfig.real: /usr/local/lib/libtcm.so.1 is not a symbolic link\n",
            "\n",
            "/sbin/ldconfig.real: /usr/local/lib/libtbbbind.so.3 is not a symbolic link\n",
            "\n",
            "Requirement already satisfied: selenium in /usr/local/lib/python3.10/dist-packages (4.26.1)\n",
            "Collecting webdriver-manager\n",
            "  Downloading webdriver_manager-4.0.2-py2.py3-none-any.whl.metadata (12 kB)\n",
            "Requirement already satisfied: urllib3<3,>=1.26 in /usr/local/lib/python3.10/dist-packages (from urllib3[socks]<3,>=1.26->selenium) (2.2.3)\n",
            "Requirement already satisfied: trio~=0.17 in /usr/local/lib/python3.10/dist-packages (from selenium) (0.27.0)\n",
            "Requirement already satisfied: trio-websocket~=0.9 in /usr/local/lib/python3.10/dist-packages (from selenium) (0.11.1)\n",
            "Requirement already satisfied: certifi>=2021.10.8 in /usr/local/lib/python3.10/dist-packages (from selenium) (2024.8.30)\n",
            "Requirement already satisfied: typing_extensions~=4.9 in /usr/local/lib/python3.10/dist-packages (from selenium) (4.12.2)\n",
            "Requirement already satisfied: websocket-client~=1.8 in /usr/local/lib/python3.10/dist-packages (from selenium) (1.8.0)\n",
            "Requirement already satisfied: requests in /usr/local/lib/python3.10/dist-packages (from webdriver-manager) (2.32.3)\n",
            "Collecting python-dotenv (from webdriver-manager)\n",
            "  Downloading python_dotenv-1.0.1-py3-none-any.whl.metadata (23 kB)\n",
            "Requirement already satisfied: packaging in /usr/local/lib/python3.10/dist-packages (from webdriver-manager) (24.1)\n",
            "Requirement already satisfied: attrs>=23.2.0 in /usr/local/lib/python3.10/dist-packages (from trio~=0.17->selenium) (24.2.0)\n",
            "Requirement already satisfied: sortedcontainers in /usr/local/lib/python3.10/dist-packages (from trio~=0.17->selenium) (2.4.0)\n",
            "Requirement already satisfied: idna in /usr/local/lib/python3.10/dist-packages (from trio~=0.17->selenium) (3.10)\n",
            "Requirement already satisfied: outcome in /usr/local/lib/python3.10/dist-packages (from trio~=0.17->selenium) (1.3.0.post0)\n",
            "Requirement already satisfied: sniffio>=1.3.0 in /usr/local/lib/python3.10/dist-packages (from trio~=0.17->selenium) (1.3.1)\n",
            "Requirement already satisfied: exceptiongroup in /usr/local/lib/python3.10/dist-packages (from trio~=0.17->selenium) (1.2.2)\n",
            "Requirement already satisfied: wsproto>=0.14 in /usr/local/lib/python3.10/dist-packages (from trio-websocket~=0.9->selenium) (1.2.0)\n",
            "Requirement already satisfied: pysocks!=1.5.7,<2.0,>=1.5.6 in /usr/local/lib/python3.10/dist-packages (from urllib3[socks]<3,>=1.26->selenium) (1.7.1)\n",
            "Requirement already satisfied: charset-normalizer<4,>=2 in /usr/local/lib/python3.10/dist-packages (from requests->webdriver-manager) (3.4.0)\n",
            "Requirement already satisfied: h11<1,>=0.9.0 in /usr/local/lib/python3.10/dist-packages (from wsproto>=0.14->trio-websocket~=0.9->selenium) (0.14.0)\n",
            "Downloading webdriver_manager-4.0.2-py2.py3-none-any.whl (27 kB)\n",
            "Downloading python_dotenv-1.0.1-py3-none-any.whl (19 kB)\n",
            "Installing collected packages: python-dotenv, webdriver-manager\n",
            "Successfully installed python-dotenv-1.0.1 webdriver-manager-4.0.2\n"
          ]
        }
      ]
    },
    {
      "source": [
        "from selenium import webdriver\n",
        "from selenium.webdriver.common.by import By\n",
        "from selenium.webdriver.chrome.service import Service\n",
        "from selenium.webdriver.chrome.options import Options\n",
        "from webdriver_manager.chrome import ChromeDriverManager\n",
        "import time\n",
        "import pickle\n",
        "import os\n",
        "\n",
        "# Configuração do WebDriver\n",
        "chrome_options = Options()\n",
        "chrome_options.add_argument(\"--headless=new\")  # Executa o navegador em modo headless (opcional)\n",
        "chrome_options.add_argument(\"--no-sandbox\")\n",
        "chrome_options.add_argument(\"--disable-dev-shm-usage\")\n",
        "chrome_options.add_argument(\"--remote-debugging-port=9222\")\n",
        "\n",
        "service = Service(ChromeDriverManager().install())\n",
        "driver = webdriver.Chrome(service=service, options=chrome_options)\n",
        "\n",
        "# URL da página de resultados da pesquisa\n",
        "url = \"https://www.linkedin.com/jobs/search/?currentJobId=4046225014&geoId=106057199&keywords=%22machine%20learning%22&origin=JOB_SEARCH_PAGE_SEARCH_BUTTON&refresh=true\"\n",
        "\n",
        "li_at_cookie = \"AQEDATI8OtEATpypAAABkwM9s_0AAAGTJ0o3_U0AMKKTtJsrrHcVgIfTGU4wQWtYpKaes0szHuOLUZDZdhRSFk1MGzn9g4PQwUFhACSi4dpmCUm7XzcZKbCMxPIP_cZ7nzJTAB2KXlqFMR0uv0OUb1-7\"\n",
        "driver.get(\"https://www.linkedin.com\") # Navegue para o LinkedIn primeiro\n",
        "\n",
        "driver.add_cookie({\"name\": \"li_at\", \"value\": li_at_cookie, \"domain\": \".linkedin.com\"})\n",
        "# Adicione outros cookies, se necessário, usando o mesmo formato\n",
        "\n",
        "# Acessa a página\n",
        "driver.get(url)\n",
        "\n",
        "# Aguarda o carregamento da página (ajuste o tempo conforme necessário)\n",
        "time.sleep(5)  # Aumentado o tempo de espera\n",
        "\n",
        "# Encontra todos os cards de vagas\n",
        "job_cards = driver.find_elements(By.CLASS_NAME, \"job-card-container--clickable\")\n",
        "\n",
        "# Abre cada card e extrai a descrição\n",
        "all_descriptions = []\n",
        "for job_card in job_cards:\n",
        "    job_card.click()  # Clica no card da vaga\n",
        "    time.sleep(5)  # Aguarda o carregamento da descrição\n",
        "\n",
        "    # Encontra a descrição da vaga dentro do card aberto\n",
        "    job_description = driver.find_element(By.XPATH, '//article[contains(@class, \"jobs-description__container\")]')\n",
        "    all_descriptions.append(job_description.text)  # Adiciona a descrição à lista\n",
        "\n",
        "# Salva todas as descrições em um arquivo\n",
        "with open('job_descriptions.txt', 'w', encoding='utf-8') as f:\n",
        "    for description in all_descriptions:\n",
        "        f.write(description + '\\n')\n",
        "\n",
        "print(f\"Descrições de {len(all_descriptions)} empregos extraídas e salvas em 'job_descriptions.txt'\")\n",
        "\n",
        "# # Tenta encontrar as descrições dos empregos\n",
        "# job_descriptions = driver.find_elements(By.XPATH, '//article[contains(@class, \"jobs-description__container\")]')\n",
        "\n",
        "# # Verifica se foram encontradas descrições\n",
        "# if job_descriptions:\n",
        "#     # Extrai o texto das descrições e salva em uma lista\n",
        "#     descriptions = [job.text for job in job_descriptions]\n",
        "\n",
        "#     # Salva as descrições em um arquivo\n",
        "#     with open('job_descriptions.txt', 'w', encoding='utf-8') as f:\n",
        "#         for description in descriptions:\n",
        "#             f.write(description + '\\n')\n",
        "\n",
        "#     print(\"Descrições de empregos extraídas e salvas em 'job_descriptions.txt'\")\n",
        "# else:\n",
        "#     print(\"Nenhuma descrição de emprego encontrada.\")\n",
        "#     # Salva o HTML da página para depuração\n",
        "#     with open(\"page_source.html\", \"w\", encoding=\"utf-8\") as f:\n",
        "#         f.write(driver.page_source)\n",
        "\n",
        "#     # Salva um print da tela para depuração\n",
        "#     driver.save_screenshot(\"page_screenshot.png\")\n",
        "#     print(\"HTML da página salvo em 'page_source.html'\")\n",
        "#     print(\"Print da tela salvo em 'page_screenshot.png'\")\n",
        "\n",
        "# Fecha o navegador\n",
        "driver.quit()"
      ],
      "cell_type": "code",
      "metadata": {
        "id": "Tyw5C6EOb4dn",
        "outputId": "ce9ccf2f-7472-47f0-eb06-1e71b037c426",
        "colab": {
          "base_uri": "https://localhost:8080/"
        }
      },
      "id": "Tyw5C6EOb4dn",
      "execution_count": 13,
      "outputs": [
        {
          "output_type": "stream",
          "name": "stdout",
          "text": [
            "Descrições de 7 empregos extraídas e salvas em 'job_descriptions.txt'\n"
          ]
        }
      ]
    },
    {
      "cell_type": "code",
      "source": [
        "!ls"
      ],
      "metadata": {
        "id": "D1SAnU0vbO_f",
        "outputId": "bcc93b9a-ca4b-4f06-c6ce-39b4f75f2147",
        "colab": {
          "base_uri": "https://localhost:8080/"
        }
      },
      "id": "D1SAnU0vbO_f",
      "execution_count": 8,
      "outputs": [
        {
          "output_type": "stream",
          "name": "stdout",
          "text": [
            "job_descriptions.txt  page_screenshot.png  page_source.html  sample_data\n"
          ]
        }
      ]
    },
    {
      "cell_type": "code",
      "source": [],
      "metadata": {
        "id": "RIQsOCSLcBdT"
      },
      "id": "RIQsOCSLcBdT",
      "execution_count": null,
      "outputs": []
    },
    {
      "cell_type": "code",
      "source": [
        "# import os\n",
        "\n",
        "# os.environ['LINKEDIN_EMAIL'] = 'gacarfaria@gmail.com'\n",
        "# os.environ['LINKEDIN_SENHA'] = 'G4c4rf4r1421#'"
      ],
      "metadata": {
        "id": "03sRCJ2C3I38"
      },
      "id": "03sRCJ2C3I38",
      "execution_count": null,
      "outputs": []
    }
  ],
  "metadata": {
    "kernelspec": {
      "display_name": "Python 3 (ipykernel)",
      "language": "python",
      "name": "python3"
    },
    "language_info": {
      "codemirror_mode": {
        "name": "ipython",
        "version": 3
      },
      "file_extension": ".py",
      "mimetype": "text/x-python",
      "name": "python",
      "nbconvert_exporter": "python",
      "pygments_lexer": "ipython3",
      "version": "3.8.10"
    },
    "colab": {
      "provenance": []
    }
  },
  "nbformat": 4,
  "nbformat_minor": 5
}